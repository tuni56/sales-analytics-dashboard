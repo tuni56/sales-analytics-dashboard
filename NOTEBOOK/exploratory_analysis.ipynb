# ✅ Setup
import pandas as pd
import matplotlib.pyplot as plt
import seaborn as sns
import os

# ✅ Cargar el dataset
DATA_PATH = "../data/ventas.csv"
assert os.path.exists(DATA_PATH), f"Archivo no encontrado en {DATA_PATH}"
df = pd.read_csv(DATA_PATH)

# ✅ Conversión de columnas de fecha
fecha_cols = ['Order Date', 'Ship Date']
print("\n📅 Columnas de fecha identificadas:", fecha_cols)

# Convertir columnas de fecha
for col in fecha_cols:
    df[col] = pd.to_datetime(df[col], errors='coerce')

# Crear columnas auxiliares de año y mes a partir de 'Order Date'
df['anio'] = df['Order Date'].dt.year
df['mes'] = df['Order Date'].dt.month

# ✅ Corrección de tipos de datos
cat_cols = [
    'Ship Mode', 'Segment', 'Country', 'City', 'State',
    'Region', 'Category', 'Sub-Category', 'Customer ID',
    'Customer Name', 'Product ID', 'Product Name', 'Order ID'
]
for col in cat_cols:
    df[col] = df[col].astype('category')

# Convertir Postal Code a string conservando nulos
df['Postal Code'] = df['Postal Code'].astype('Int64').astype('string')

# ✅ Vista general
print(df.head())
print(df.info())
print(df.describe(include='all'))

# ✅ Verificar columnas nulas
missing = df.isnull().sum().sort_values(ascending=False)
print("\n🔍 Valores nulos por columna:")
print(missing[missing > 0])

# ✅ Distribuciones de columnas numéricas
plt.figure(figsize=(12, 5))
sns.histplot(df['Sales'], kde=True)
plt.title("Distribución de Ventas")
plt.xlabel("Ventas")
plt.show()

# ✅ Conteo de categorías
for col in cat_cols:
    print(f"\n📊 Top categorías en {col}:")
    print(df[col].value_counts().head(10))

# ✅ Correlación
plt.figure(figsize=(10, 8))
sns.heatmap(df.corr(numeric_only=True), annot=True, cmap='coolwarm')
plt.title("Mapa de correlación")
plt.show()

# ✅ Exportar versión limpia si es necesario
df.to_csv("../data/ventas_limpias.csv", index=False)
